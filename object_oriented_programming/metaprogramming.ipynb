{
 "cells": [
  {
   "cell_type": "markdown",
   "metadata": {},
   "source": [
    "# Metaprogramming and fundamental concepts of plugin infrastructures\n",
    "\n",
    "Metaprogramming allows computer programs to treat other programs like data. This allows metaprograms to read other programs and themselves during runtime, optimize them or generate new functionalities.\n",
    "\n",
    "One example of metaprogramming are plugin infrastructures."
   ]
  },
  {
   "cell_type": "markdown",
   "metadata": {},
   "source": [
    "### Metaclasses in Python\n",
    "\n",
    "In Python exists two kind of classes:\n",
    "- New Class: Inherits from object. It is the only way to create a class in Python 3.\n",
    "- Classic Class: They were retained through Python 2.7 for backwards compatibility, and were removed in Python 3.\n",
    "\n",
    "When executing the following code in Python 2.7:\n",
    "```python\n",
    "import sys\n",
    "\n",
    "print(sys.version)\n",
    "\n",
    "class BaseClass:\n",
    "  pass\n",
    "\n",
    "x = BaseClass()\n",
    "print(x.__class__)\n",
    "print(type(x))\n",
    "\n",
    "```\n",
    "The output is:\n",
    "```\n",
    "2.7.18 (default, Nov 21 2022, 21:13:16) [GCC 12.2.0]\n",
    "__main__.BaseClass\n",
    "<type 'instance'>\n",
    "```\n",
    "In a classic class an instance of an old-style class is always implemented from a single built-in type called *instance*.\n",
    "\n",
    "Here is the same output in Python 3.10:\n",
    "```\n",
    "3.10.12 (main, Nov 20 2023, 15:14:05) [GCC 11.4.0]\n",
    "<class '__main__.BaseClass'>\n",
    "<class '__main__.BaseClass'>\n",
    "```\n",
    "\n",
    "In Python everything is an object also a class. Therefore a class is also an object with a type:"
   ]
  },
  {
   "cell_type": "code",
   "execution_count": 1,
   "metadata": {},
   "outputs": [
    {
     "name": "stdout",
     "output_type": "stream",
     "text": [
      "3.12.0 (tags/v3.12.0:0fb18b0, Oct  2 2023, 13:03:39) [MSC v.1935 64 bit (AMD64)]\n",
      "<class '__main__.BaseClass'>\n",
      "<class '__main__.BaseClass'>\n",
      "Type of the class is:  <class 'type'>\n"
     ]
    }
   ],
   "source": [
    "import sys\n",
    "\n",
    "print(sys.version)\n",
    "\n",
    "class BaseClass:\n",
    "  pass\n",
    "\n",
    "x = BaseClass()\n",
    "print(x.__class__)\n",
    "print(type(x))\n",
    "print('Type of the class is: ', type(BaseClass))   # type of the class is type  (metaclass)"
   ]
  },
  {
   "cell_type": "markdown",
   "metadata": {},
   "source": [
    "### Type of built in base classes\n",
    "Also the built in base classes are of the type *type*:"
   ]
  },
  {
   "cell_type": "code",
   "execution_count": 2,
   "metadata": {},
   "outputs": [
    {
     "name": "stdout",
     "output_type": "stream",
     "text": [
      "<class 'type'>\n",
      "<class 'type'>\n",
      "<class 'type'>\n",
      "<class 'type'>\n",
      "<class 'type'>\n"
     ]
    }
   ],
   "source": [
    "for i in int, float, dict, list, tuple:\n",
    "  print(type(i))   # type of the class is type  (metaclass) (all classes are instances of type)"
   ]
  },
  {
   "cell_type": "markdown",
   "metadata": {},
   "source": [
    "The *type* of the class type is also *type*"
   ]
  },
  {
   "cell_type": "code",
   "execution_count": 3,
   "metadata": {},
   "outputs": [
    {
     "name": "stdout",
     "output_type": "stream",
     "text": [
      "<class 'type'>\n"
     ]
    }
   ],
   "source": [
    "print(type(type))  # type of the class is type  (metaclass  (type is instance of itself))   (type is metaclass)"
   ]
  },
  {
   "cell_type": "markdown",
   "metadata": {},
   "source": [
    "### Creating instances of the type class\n",
    "Instances of the *type* class can be created by calling ```type(<name>, <bases>, <dct>)``` with three arguments:\n",
    "- ```<name>```: Name of the dynamicaly created class. Specifies the *__name__* attribut\n",
    "- ```<bases>```: Tuple of the base classes from which the class inherits. Specifies the *__base__* attribute.\n",
    "- ```<dct>```: Specifies a namespace dictionary containing definitions for the class body. Becomes the *__dict__* attribute."
   ]
  },
  {
   "cell_type": "code",
   "execution_count": 11,
   "metadata": {},
   "outputs": [
    {
     "name": "stdout",
     "output_type": "stream",
     "text": [
      "100\n",
      "attr = 100\n"
     ]
    }
   ],
   "source": [
    "def func(obj):\n",
    "    print('attr =', obj.attr_value)\n",
    "\n",
    "baseClass = type('BaseClass',(),{'attr_value': 100, 'attr_func': func})  # type(name, bases, dict)  (metaclass)\n",
    "x = baseClass()     \n",
    "print(x.attr_value)\n",
    "x.attr_func()"
   ]
  },
  {
   "cell_type": "markdown",
   "metadata": {},
   "source": [
    "### Creation of new instances\n",
    "The expression ```BaseClass()``` creates a new instance of the *baseClass*.\n",
    "When calling ```BaseClass()``` first the method ```__call__()``` of the parent class is called.\n",
    "The the methodes ```__new__()``` and ```__init__()``` from the ***BaseClass*** gets called."
   ]
  },
  {
   "cell_type": "code",
   "execution_count": 12,
   "metadata": {},
   "outputs": [
    {
     "data": {
      "text/plain": [
       "100"
      ]
     },
     "execution_count": 12,
     "metadata": {},
     "output_type": "execute_result"
    }
   ],
   "source": [
    "def new(cls):\n",
    "    x = object.__new__(cls) # object.__new__(cls)  (metaclass)\n",
    "    x.attr = 100\n",
    "    return x\n",
    "\n",
    "BaseClass.__new__ = new\n",
    "\n",
    "baseClass = BaseClass()\n",
    "baseClass.attr"
   ]
  },
  {
   "cell_type": "markdown",
   "metadata": {},
   "source": [
    "Metaclasses can be used as a template for the creation of classes. Tis is called class factory.\n",
    "Because it is not possible to add a new ```__new__()``` method to the *type* class we need a metaclass as following:"
   ]
  },
  {
   "cell_type": "code",
   "execution_count": 13,
   "metadata": {},
   "outputs": [],
   "source": [
    "class Meta(type):\n",
    "    def __new__(cls, name, bases, dct):\n",
    "        x = super().__new__(cls, name, bases, dct)\n",
    "        x.attr = 100\n",
    "        return x"
   ]
  },
  {
   "cell_type": "markdown",
   "metadata": {},
   "source": [
    "Now we cann use our metaclass *Meta* as class factory (template) for the creation of new classes:"
   ]
  },
  {
   "cell_type": "code",
   "execution_count": 15,
   "metadata": {},
   "outputs": [
    {
     "name": "stdout",
     "output_type": "stream",
     "text": [
      "100\n"
     ]
    }
   ],
   "source": [
    "class BaseClass(metaclass=Meta):\n",
    "    pass\n",
    "\n",
    "print(BaseClass.attr)"
   ]
  },
  {
   "cell_type": "markdown",
   "metadata": {},
   "source": [
    "The same can also be done using a class decorator:"
   ]
  },
  {
   "cell_type": "code",
   "execution_count": 16,
   "metadata": {},
   "outputs": [
    {
     "name": "stdout",
     "output_type": "stream",
     "text": [
      "100\n"
     ]
    }
   ],
   "source": [
    "def decorator(cls):\n",
    "    class NewClass(cls):\n",
    "        attr = 100\n",
    "    return NewClass\n",
    "\n",
    "@decorator\n",
    "class BaseClass:\n",
    "    pass\n",
    "\n",
    "print(BaseClass.attr)"
   ]
  },
  {
   "cell_type": "markdown",
   "metadata": {},
   "source": [
    "### Creation of pluging using metaclasses:\n",
    "The concept of metaclasses can be used to create plugins.\n",
    "A plugin application has the following phases to interact with plugins:\n",
    "- ***Discovery:*** Mechanism by which a running application can find out which plugins it has at its disposal. \n",
    "- ***Registration:***: Mechanism by which a plugin registers itself in the application.\n",
    "- ***Application Hooks:*** Places where the plugin can *attach* itself to the application.\n",
    "- ***Exposing application API to plugins:***: the application gives the plugin access to itself."
   ]
  },
  {
   "cell_type": "code",
   "execution_count": 17,
   "metadata": {},
   "outputs": [
    {
     "name": "stdout",
     "output_type": "stream",
     "text": [
      "[<class '__main__.PluginA'>, <class '__main__.PluginB'>]\n"
     ]
    }
   ],
   "source": [
    "class IPluginRegistry(type):\n",
    "    plugins = []\n",
    "\n",
    "    def __init__(cls, name, bases, attrs):\n",
    "        if name != 'IPlugin':\n",
    "            IPluginRegistry.plugins.append(cls)\n",
    "\n",
    "class IPlugin(object, metaclass=IPluginRegistry):\n",
    "    pass\n",
    "\n",
    "class PluginA(IPlugin):\n",
    "    pass\n",
    "\n",
    "class PluginB(IPlugin):\n",
    "    pass\n",
    "\n",
    "print(IPluginRegistry.plugins)"
   ]
  },
  {
   "cell_type": "markdown",
   "metadata": {},
   "source": [
    "### Example in the project\n",
    "\n",
    "Example plugin:\n",
    "```python\n",
    "from models.nodes.subnet_nodes.subnet_node_layers.firewall_layer import IFirewallPlugin\n",
    "from typing import TYPE_CHECKING\n",
    "if TYPE_CHECKING:\n",
    "    from models import NetworkPackage\n",
    "\n",
    "\n",
    "class Plugin(IFirewallPlugin):\n",
    "    \"\"\"\n",
    "    This class defines the default method that must be implemented in all firewall plugins.\n",
    "\n",
    "    Methods\n",
    "    ----------\n",
    "    filter_request(message)\n",
    "        Returns if the given message should be filtered or not.\n",
    "    \"\"\"\n",
    "\n",
    "    def filter_request(self, network_package: 'NetworkPackage') -> tuple[bool, str, str]:\n",
    "        \"\"\"\n",
    "        Returns if the given network package should be filtered or not.\n",
    "\n",
    "        Parameters\n",
    "        ----------\n",
    "        network_package: NetworkPackage\n",
    "            The network package that should be filtered or not.\n",
    "\n",
    "        Returns\n",
    "        ----------\n",
    "        tuple[bool, str, str]\n",
    "            If the message should be filtered, the reason for it and the source.\n",
    "        \"\"\"\n",
    "        \n",
    "        return (False, \"\", \"Default Filter Plugin\")\n",
    "```\n",
    "\n",
    "Register the plugins:\n",
    "\n",
    "```python\n",
    "if len(os.listdir('./models/nodes/subnet_nodes/subnet_node_layers/firewall_layer/plugins')) == 0:\n",
    "    sys.exit(\"No filter plugin detcted. Please place default filter plugin in the filter plugis directory.\")\n",
    "sys.path.append('./models/nodes/subnet_nodes/subnet_node_layers/firewall_layer/plugins')\n",
    "self.plugins = [\n",
    "    importlib.import_module(f.split('.')[0], '.').Plugin()\n",
    "    for f in next(os.walk('models/nodes/subnet_nodes/subnet_node_layers/firewall_layer/plugins'))[2]\n",
    "]\n",
    "```\n",
    "Application hook:\n",
    "```python\n",
    "for plugin in self.plugins:\n",
    "    filter_response = plugin.filter_request(network_package)\n",
    "    if filter_response[0]:\n",
    "        alert = Alert(msg=filter_response[1], source=\"Filter Plugin: \"+str(filter_response[2], network_package=network_package))\n",
    "        self.notify(alert)\n",
    "        return None\n",
    "```"
   ]
  }
 ],
 "metadata": {
  "kernelspec": {
   "display_name": ".venv",
   "language": "python",
   "name": "python3"
  },
  "language_info": {
   "codemirror_mode": {
    "name": "ipython",
    "version": 3
   },
   "file_extension": ".py",
   "mimetype": "text/x-python",
   "name": "python",
   "nbconvert_exporter": "python",
   "pygments_lexer": "ipython3",
   "version": "3.12.0"
  },
  "orig_nbformat": 4
 },
 "nbformat": 4,
 "nbformat_minor": 2
}
